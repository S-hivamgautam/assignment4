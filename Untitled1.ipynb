{
  "nbformat": 4,
  "nbformat_minor": 0,
  "metadata": {
    "colab": {
      "provenance": [],
      "authorship_tag": "ABX9TyMHqNPr3Hhb1/HCoqiew2gX",
      "include_colab_link": true
    },
    "kernelspec": {
      "name": "python3",
      "display_name": "Python 3"
    },
    "language_info": {
      "name": "python"
    }
  },
  "cells": [
    {
      "cell_type": "markdown",
      "metadata": {
        "id": "view-in-github",
        "colab_type": "text"
      },
      "source": [
        "<a href=\"https://colab.research.google.com/github/S-hivamgautam/assignment4/blob/main/Untitled1.ipynb\" target=\"_parent\"><img src=\"https://colab.research.google.com/assets/colab-badge.svg\" alt=\"Open In Colab\"/></a>"
      ]
    },
    {
      "cell_type": "markdown",
      "source": [
        "Q.1 Write a program to create a NumPy 1D-array with 5 elements and perform basic\n",
        "operations like:\n",
        "a) Addition of 2 in all the element\n",
        "b) Multiply 3 with all the elements\n",
        "c) Divide every element by 2"
      ],
      "metadata": {
        "id": "ivkQ7bxIyGwx"
      }
    },
    {
      "cell_type": "code",
      "source": [
        "import numpy as np\n",
        "arr = np.array([1, 2, 3, 4, 5])\n",
        "arr_add = arr + 2\n",
        "print(\"Addition of 2 in all the element:\", arr_add)\n",
        "arr_multiply = arr * 3\n",
        "print(\"Multiply 3 with all the elements:\", arr_multiply)\n",
        "arr_divide = arr / 2\n",
        "print(\"Divide every element by 2:\", arr_divide)\n"
      ],
      "metadata": {
        "colab": {
          "base_uri": "https://localhost:8080/"
        },
        "id": "CCC340XmyHDt",
        "outputId": "b5c60faa-ba2b-4110-b99e-51e10068c9ae"
      },
      "execution_count": 1,
      "outputs": [
        {
          "output_type": "stream",
          "name": "stdout",
          "text": [
            "Array after adding 2 to each element: [3 4 5 6 7]\n",
            "Array after multiplying each element by 3: [ 3  6  9 12 15]\n",
            "Array after dividing each element by 2: [0.5 1.  1.5 2.  2.5]\n"
          ]
        }
      ]
    },
    {
      "cell_type": "markdown",
      "source": [
        "Q.2 Questions on Basic NumPy Array:\n",
        "a) Reverse the NumPy array: arr = np.array([1, 2, 3, 6, 4, 5])\n",
        "b) Find the most frequent value and their indice(s) in the following arrays:\n",
        "i. x = np.array([1,2,3,4,5,1,2,1,1,1])\n",
        "ii. y = np.array([1, 1, 1, 2, 3, 4, 2, 4, 3, 3, ])"
      ],
      "metadata": {
        "id": "wUrmO4OcyVl1"
      }
    },
    {
      "cell_type": "code",
      "source": [
        "arr = np.array([1, 2, 3, 6, 4, 5])\n",
        "reversed_arr = arr[::-1]\n",
        "print(\"Reversed array:\", reversed_arr)\n",
        "\n",
        "from scipy import stats\n",
        "x = np.array([1, 2, 3, 4, 5, 1, 2, 1, 1, 1])\n",
        "most_frequent_value_x, count_x = stats.mode(x)\n",
        "indices_x = np.where(x == most_frequent_value_x)[0]\n",
        "print(f\"Most frequent value in x: {most_frequent_value_x}, Indices: {indices_x}\")\n",
        "y = np.array([1, 1, 1, 2, 3, 4, 2, 4, 3, 3])\n",
        "most_frequent_value_y, count_y = stats.mode(y)\n",
        "indices_y = np.where(y == most_frequent_value_y)[0]\n",
        "print(f\"Most frequent value in y: {most_frequent_value_y}, Indices: {indices_y}\")\n",
        "\n"
      ],
      "metadata": {
        "colab": {
          "base_uri": "https://localhost:8080/"
        },
        "id": "HaWnSCN0yUJT",
        "outputId": "c31e6237-9718-489b-d93c-edf9fc189741"
      },
      "execution_count": 3,
      "outputs": [
        {
          "output_type": "stream",
          "name": "stdout",
          "text": [
            "Reversed array: [5 4 6 3 2 1]\n",
            "Most frequent value in x: 1, Indices: [0 5 7 8 9]\n",
            "Most frequent value in y: 1, Indices: [0 1 2]\n"
          ]
        }
      ]
    },
    {
      "cell_type": "markdown",
      "source": [
        "Q.3 For the given 2-D array arr=np.array([10, 20, 30], [40, 50, 60], [70, 80, 90]), access\n",
        "elements using row and column indices as follows:\n",
        "a) Access 1st row, 2nd column\n",
        "b) Access 3rd row, 1st column"
      ],
      "metadata": {
        "id": "N54VrMjcyvGJ"
      }
    },
    {
      "cell_type": "code",
      "source": [
        "arr_2d = np.array([[10, 20, 30], [40, 50, 60], [70, 80, 90]])\n",
        "element_1_2 = arr_2d[0, 1]\n",
        "print(\"Element at 1st row, 2nd column:\", element_1_2)\n",
        "element_3_1 = arr_2d[2, 0]\n",
        "print(\"Element at 3rd row, 1st column:\", element_3_1)\n"
      ],
      "metadata": {
        "colab": {
          "base_uri": "https://localhost:8080/"
        },
        "id": "u5ejezWGy2VO",
        "outputId": "7eba86ac-5dc6-4c6d-979a-548578a41e0c"
      },
      "execution_count": 4,
      "outputs": [
        {
          "output_type": "stream",
          "name": "stdout",
          "text": [
            "Element at 1st row, 2nd column: 20\n",
            "Element at 3rd row, 1st column: 70\n"
          ]
        }
      ]
    },
    {
      "cell_type": "markdown",
      "source": [
        "Q.4 Write program to create an 1-D NumPy array named <<Your Name>> with evenly\n",
        "spaced 25 numbers from 10 to 100 using linspace(). Print the dimensions of the array,\n",
        "shape, total elements, the data type of each element and total number of bytes consumed\n",
        "by the array. Find the transpose of this array using reshape() attribute. Can we do the same\n",
        "with T attribute?\n"
      ],
      "metadata": {
        "id": "viaw1axRzAkC"
      }
    },
    {
      "cell_type": "code",
      "source": [
        "name_array = np.linspace(10, 100, 25)\n",
        "print(\"Array:\", name_array)\n",
        "print(\"Dimensions:\", name_array.ndim)\n",
        "print(\"Shape:\", name_array.shape)\n",
        "print(\"Total elements:\", name_array.size)\n",
        "print(\"Data type:\", name_array.dtype)\n",
        "print(\"Bytes consumed:\", name_array.nbytes)\n",
        "transposed_array = name_array.reshape(25, 1)\n",
        "print(\"Transpose using reshape:\\n\", transposed_array)\n",
        "transposed_array_t = name_array.T\n",
        "print(\"Transpose using T attribute:\\n\", transposed_array_t)\n"
      ],
      "metadata": {
        "colab": {
          "base_uri": "https://localhost:8080/"
        },
        "id": "Hu44DURjy_Z8",
        "outputId": "193bb0d5-abf4-488b-980d-03b0e7541154"
      },
      "execution_count": 9,
      "outputs": [
        {
          "output_type": "stream",
          "name": "stdout",
          "text": [
            "Array: [ 10.    13.75  17.5   21.25  25.    28.75  32.5   36.25  40.    43.75\n",
            "  47.5   51.25  55.    58.75  62.5   66.25  70.    73.75  77.5   81.25\n",
            "  85.    88.75  92.5   96.25 100.  ]\n",
            "Dimensions: 1\n",
            "Shape: (25,)\n",
            "Total elements: 25\n",
            "Data type: float64\n",
            "Bytes consumed: 200\n",
            "Transpose using reshape:\n",
            " [[ 10.  ]\n",
            " [ 13.75]\n",
            " [ 17.5 ]\n",
            " [ 21.25]\n",
            " [ 25.  ]\n",
            " [ 28.75]\n",
            " [ 32.5 ]\n",
            " [ 36.25]\n",
            " [ 40.  ]\n",
            " [ 43.75]\n",
            " [ 47.5 ]\n",
            " [ 51.25]\n",
            " [ 55.  ]\n",
            " [ 58.75]\n",
            " [ 62.5 ]\n",
            " [ 66.25]\n",
            " [ 70.  ]\n",
            " [ 73.75]\n",
            " [ 77.5 ]\n",
            " [ 81.25]\n",
            " [ 85.  ]\n",
            " [ 88.75]\n",
            " [ 92.5 ]\n",
            " [ 96.25]\n",
            " [100.  ]]\n",
            "Transpose using T attribute:\n",
            " [ 10.    13.75  17.5   21.25  25.    28.75  32.5   36.25  40.    43.75\n",
            "  47.5   51.25  55.    58.75  62.5   66.25  70.    73.75  77.5   81.25\n",
            "  85.    88.75  92.5   96.25 100.  ]\n"
          ]
        }
      ]
    },
    {
      "cell_type": "markdown",
      "source": [
        "Q5. Create a 2-D Array of three rows and four columns, named ucs420_<your_name>>\n",
        "with following values – 10, 20, 30, 40, 50, 60, 70, 80, 90, 15, 20, 35. Compute the mean,\n",
        "median, max, min, unique elements. Reshape the array to four rows and three columns and\n",
        "name it as reshaped_ ucs420_<your_name>>. Resize the array to two rows and three\n",
        "columns and name it as resized_ ucs420_<your_name>>."
      ],
      "metadata": {
        "id": "QdQWjUdxzTA8"
      }
    },
    {
      "cell_type": "code",
      "source": [
        "import numpy as np\n",
        "\n",
        "ucs420_shivam = np.array([[10, 20, 30, 40], [50, 60, 70, 80], [90, 15, 20, 35]])\n",
        "\n",
        "mean_value = np.mean(ucs420_shivam)\n",
        "median_value = np.median(ucs420_shivam)\n",
        "max_value = np.max(ucs420_shivam)\n",
        "min_value = np.min(ucs420_shivam)\n",
        "unique_elements = np.unique(ucs420_shivam)\n",
        "\n",
        "print(\"Mean:\", mean_value)\n",
        "print(\"Median:\", median_value)\n",
        "print(\"Max:\", max_value)\n",
        "print(\"Min:\", min_value)\n",
        "print(\"Unique elements:\", unique_elements)\n",
        "\n",
        "\n",
        "reshaped_ucs420_shivam = ucs420_shivam.reshape(3, 4)\n",
        "print(\"Reshaped array:\\n\", reshaped_ucs420_shivam)\n",
        "\n",
        "\n",
        "ucs420_shivam.resize(3, 4)\n",
        "print(\"Resized array:\\n\", ucs420_shivam)\n"
      ],
      "metadata": {
        "colab": {
          "base_uri": "https://localhost:8080/"
        },
        "id": "pl31Hzqs2D8r",
        "outputId": "0dee6265-d6d7-4ecb-8a15-358921aca22c"
      },
      "execution_count": 15,
      "outputs": [
        {
          "output_type": "stream",
          "name": "stdout",
          "text": [
            "Mean: 43.333333333333336\n",
            "Median: 37.5\n",
            "Max: 90\n",
            "Min: 10\n",
            "Unique elements: [10 15 20 30 35 40 50 60 70 80 90]\n",
            "Reshaped array:\n",
            " [[10 20 30 40]\n",
            " [50 60 70 80]\n",
            " [90 15 20 35]]\n",
            "Resized array:\n",
            " [[10 20 30 40]\n",
            " [50 60 70 80]\n",
            " [90 15 20 35]]\n"
          ]
        }
      ]
    }
  ]
}